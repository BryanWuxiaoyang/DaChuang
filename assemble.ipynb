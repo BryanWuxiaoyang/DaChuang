{
 "nbformat": 4,
 "nbformat_minor": 2,
 "metadata": {
  "language_info": {
   "name": "python",
   "codemirror_mode": {
    "name": "ipython",
    "version": 3
   },
   "version": "3.7.4-final"
  },
  "orig_nbformat": 2,
  "file_extension": ".py",
  "mimetype": "text/x-python",
  "name": "python",
  "npconvert_exporter": "python",
  "pygments_lexer": "ipython3",
  "version": 3,
  "kernelspec": {
   "name": "python37464bitbaseconda40184ef986494cbba194627aebfd1910",
   "display_name": "Python 3.7.4 64-bit ('base': conda)"
  }
 },
 "cells": [
  {
   "cell_type": "code",
   "execution_count": 33,
   "metadata": {},
   "outputs": [],
   "source": [
    "import pandas as pd\n",
    "df=pd.DataFrame()\n",
    "for i in range(25):\n",
    "    x=pd.read_csv('allData1/comment{}.csv'.format(i+1),index_col=0)\n",
    "    df=df.append(x)\n",
    "df=df.reset_index().rename(columns={'index':'stkcd'})\n",
    "df['label']=9\n",
    "df['reason']=' '\n",
    "def is_number(s):\n",
    "    try:\n",
    "        float(s)\n",
    "        return True\n",
    "    except ValueError:\n",
    "        pass\n",
    " \n",
    "    try:\n",
    "        import unicodedata\n",
    "        unicodedata.numeric(s)\n",
    "        return True\n",
    "    except (TypeError, ValueError):\n",
    "        pass\n",
    "    return False\n",
    "x=df['content'].apply(lambda x: not is_number(x))\n",
    "df=df[x]\n",
    "df=df.reset_index(drop=True)\n",
    "df.to_csv('./comment_all1.csv')"
   ]
  },
  {
   "cell_type": "code",
   "execution_count": 34,
   "metadata": {},
   "outputs": [
    {
     "data": {
      "text/html": "<div>\n<style scoped>\n    .dataframe tbody tr th:only-of-type {\n        vertical-align: middle;\n    }\n\n    .dataframe tbody tr th {\n        vertical-align: top;\n    }\n\n    .dataframe thead th {\n        text-align: right;\n    }\n</style>\n<table border=\"1\" class=\"dataframe\">\n  <thead>\n    <tr style=\"text-align: right;\">\n      <th></th>\n      <th>stkcd</th>\n      <th>time</th>\n      <th>read_count</th>\n      <th>user_id</th>\n      <th>star</th>\n      <th>content</th>\n      <th>comment_count</th>\n      <th>label</th>\n      <th>reason</th>\n    </tr>\n  </thead>\n  <tbody>\n    <tr>\n      <td>0</td>\n      <td>2833</td>\n      <td>2020-03-09 09:27:16</td>\n      <td>199</td>\n      <td>4775111747367718</td>\n      <td>6</td>\n      <td>死了死了，开盘</td>\n      <td>0</td>\n      <td>9</td>\n      <td></td>\n    </tr>\n    <tr>\n      <td>1</td>\n      <td>2833</td>\n      <td>2020-03-07 14:54:30</td>\n      <td>19</td>\n      <td>5446013531567178</td>\n      <td>7</td>\n      <td>暂时还是先不要买入的话。做股票一定要根据是做短线或者中长线，同时结合自身的实际资金情况和承受...</td>\n      <td>0</td>\n      <td>9</td>\n      <td></td>\n    </tr>\n    <tr>\n      <td>2</td>\n      <td>2833</td>\n      <td>2020-03-09 09:22:22</td>\n      <td>188</td>\n      <td>6205335693773910</td>\n      <td>5</td>\n      <td>破罐子破摔了！节后至今一波恶心走势！</td>\n      <td>0</td>\n      <td>9</td>\n      <td></td>\n    </tr>\n    <tr>\n      <td>3</td>\n      <td>2833</td>\n      <td>2020-03-06 14:19:26</td>\n      <td>1146</td>\n      <td>5030125439108538</td>\n      <td>2</td>\n      <td>绝不会后悔！</td>\n      <td>0</td>\n      <td>9</td>\n      <td></td>\n    </tr>\n    <tr>\n      <td>4</td>\n      <td>2833</td>\n      <td>2020-03-06 13:53:04</td>\n      <td>1330</td>\n      <td>6260325809839302</td>\n      <td>1</td>\n      <td>庄家，给我洗出去了</td>\n      <td>2</td>\n      <td>9</td>\n      <td></td>\n    </tr>\n  </tbody>\n</table>\n</div>",
      "text/plain": "   stkcd                   time read_count           user_id  star  \\\n0   2833   2020-03-09 09:27:16         199  4775111747367718     6   \n1   2833   2020-03-07 14:54:30          19  5446013531567178     7   \n2   2833   2020-03-09 09:22:22         188  6205335693773910     5   \n3   2833   2020-03-06 14:19:26        1146  5030125439108538     2   \n4   2833   2020-03-06 13:53:04        1330  6260325809839302     1   \n\n                                             content  comment_count  label  \\\n0                                            死了死了，开盘              0      9   \n1  暂时还是先不要买入的话。做股票一定要根据是做短线或者中长线，同时结合自身的实际资金情况和承受...              0      9   \n2                                 破罐子破摔了！节后至今一波恶心走势！              0      9   \n3                                             绝不会后悔！              0      9   \n4                                          庄家，给我洗出去了              2      9   \n\n  reason  \n0         \n1         \n2         \n3         \n4         "
     },
     "execution_count": 34,
     "metadata": {},
     "output_type": "execute_result"
    }
   ],
   "source": [
    "df.head()"
   ]
  },
  {
   "cell_type": "code",
   "execution_count": 3,
   "metadata": {},
   "outputs": [
    {
     "data": {
      "text/html": "<div>\n<style scoped>\n    .dataframe tbody tr th:only-of-type {\n        vertical-align: middle;\n    }\n\n    .dataframe tbody tr th {\n        vertical-align: top;\n    }\n\n    .dataframe thead th {\n        text-align: right;\n    }\n</style>\n<table border=\"1\" class=\"dataframe\">\n  <thead>\n    <tr style=\"text-align: right;\">\n      <th></th>\n      <th>stkcd</th>\n      <th>time</th>\n    </tr>\n  </thead>\n  <tbody>\n    <tr>\n      <td>134</td>\n      <td>300120</td>\n      <td>1068</td>\n    </tr>\n    <tr>\n      <td>117</td>\n      <td>2767</td>\n      <td>1126</td>\n    </tr>\n    <tr>\n      <td>35</td>\n      <td>988</td>\n      <td>1156</td>\n    </tr>\n    <tr>\n      <td>226</td>\n      <td>601199</td>\n      <td>1156</td>\n    </tr>\n    <tr>\n      <td>246</td>\n      <td>603806</td>\n      <td>1170</td>\n    </tr>\n    <tr>\n      <td>...</td>\n      <td>...</td>\n      <td>...</td>\n    </tr>\n    <tr>\n      <td>64</td>\n      <td>2239</td>\n      <td>2007</td>\n    </tr>\n    <tr>\n      <td>181</td>\n      <td>600216</td>\n      <td>2026</td>\n    </tr>\n    <tr>\n      <td>191</td>\n      <td>600513</td>\n      <td>2032</td>\n    </tr>\n    <tr>\n      <td>195</td>\n      <td>600536</td>\n      <td>2070</td>\n    </tr>\n    <tr>\n      <td>138</td>\n      <td>300160</td>\n      <td>2295</td>\n    </tr>\n  </tbody>\n</table>\n<p>250 rows × 2 columns</p>\n</div>",
      "text/plain": "      stkcd  time\n134  300120  1068\n117    2767  1126\n35      988  1156\n226  601199  1156\n246  603806  1170\n..      ...   ...\n64     2239  2007\n181  600216  2026\n191  600513  2032\n195  600536  2070\n138  300160  2295\n\n[250 rows x 2 columns]"
     },
     "execution_count": 3,
     "metadata": {},
     "output_type": "execute_result"
    }
   ],
   "source": [
    "# x=df.groupby(['stkcd'])['time'].count().reset_index().sort_values(by=['time'])\n",
    "# x=x[x['time']>100]\n",
    "# x"
   ]
  },
  {
   "cell_type": "code",
   "execution_count": 5,
   "metadata": {},
   "outputs": [],
   "source": [
    "df.to_csv('./comment_all1.csv')"
   ]
  },
  {
   "cell_type": "code",
   "execution_count": null,
   "metadata": {},
   "outputs": [],
   "source": []
  }
 ]
}