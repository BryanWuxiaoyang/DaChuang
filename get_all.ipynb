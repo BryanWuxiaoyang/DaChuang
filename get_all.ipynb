{
 "nbformat": 4,
 "nbformat_minor": 2,
 "metadata": {
  "language_info": {
   "name": "python",
   "codemirror_mode": {
    "name": "ipython",
    "version": 3
   },
   "version": "3.7.1"
  },
  "orig_nbformat": 2,
  "file_extension": ".py",
  "mimetype": "text/x-python",
  "name": "python",
  "npconvert_exporter": "python",
  "pygments_lexer": "ipython3",
  "version": 3
 },
 "cells": [
  {
   "cell_type": "code",
   "metadata": {},
   "outputs": [],
   "source": [
    "import requests\n",
    "\n",
    "from bs4 import BeautifulSoup\n",
    "import re\n",
    "import json\n",
    "import sys\n",
    "from datetime import datetime\n",
    "import time\n",
    "\n",
    "base_url='http://guba.eastmoney.com/remenba.aspx?type=1&tab=1'\n",
    "\n",
    "r=requests.get(base_url)\n",
    "\n",
    "stock_list_h=BeautifulSoup(r.content,'lxml').find_all('ul',class_='ngblistul2')\n",
    "stock_list_h=stock_list_h+BeautifulSoup(r.content,'lxml').find_all('ul',class_='ngblistul2 hide')\n"
   ]
  },
  {
   "cell_type": "code",
   "metadata": {},
   "outputs": [],
   "source": [
    "stockid_h=[]\n",
    "for this_lst in stock_list_h:\n",
    "    for item in this_lst:\n",
    "        href=item.a['href']\n",
    "        stockid_h.append(href[5:11])\n",
    "        #print(stockid)\n",
    "        #print(href)\n"
   ]
  },
  {
   "cell_type": "code",
   "metadata": {},
   "outputs": [],
   "source": []
  },
  {
   "cell_type": "code",
   "metadata": {},
   "outputs": [],
   "source": [
    "stockid_h=list(filter(lambda x: x[:3]!='900',stockid_h))\n",
    "print(stockid_h)"
   ]
  },
  {
   "cell_type": "code",
   "metadata": {},
   "outputs": [],
   "source": [
    "base_url='http://guba.eastmoney.com/remenba.aspx?type=1&tab=2'\n",
    "\n",
    "r=requests.get(base_url)\n",
    "stock_list_s=BeautifulSoup(r.content,'lxml').find_all('ul',class_='ngblistul2')\n",
    "stock_list_s=stock_list_s+BeautifulSoup(r.content,'lxml').find_all('ul',class_='ngblistul2 hide')"
   ]
  },
  {
   "cell_type": "code",
   "metadata": {},
   "outputs": [],
   "source": [
    "stockid_s=[]\n",
    "for this_lst in stock_list_s:\n",
    "    for item in this_lst:\n",
    "        href=item.a['href']\n",
    "        #print(href)\n",
    "        stockid_s.append(href[5:11])\n",
    "        #print(stockid)\n",
    "        #print(href)"
   ]
  },
  {
   "cell_type": "code",
   "metadata": {},
   "outputs": [],
   "source": [
    "stockid_s=list(filter(lambda x: x[:3]!='200',stockid_s))\n",
    "print(stockid_s)"
   ]
  },
  {
   "cell_type": "code",
   "metadata": {},
   "outputs": [],
   "source": []
  },
  {
   "cell_type": "code",
   "metadata": {},
   "outputs": [],
   "source": []
  }
 ]
}