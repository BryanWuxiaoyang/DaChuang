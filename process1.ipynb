{
 "nbformat": 4,
 "nbformat_minor": 2,
 "metadata": {
  "language_info": {
   "name": "python",
   "codemirror_mode": {
    "name": "ipython",
    "version": 3
   },
   "version": "3.7.4-final"
  },
  "orig_nbformat": 2,
  "file_extension": ".py",
  "mimetype": "text/x-python",
  "name": "python",
  "npconvert_exporter": "python",
  "pygments_lexer": "ipython3",
  "version": 3,
  "kernelspec": {
   "name": "python37464bitbaseconda40184ef986494cbba194627aebfd1910",
   "display_name": "Python 3.7.4 64-bit ('base': conda)"
  }
 },
 "cells": [
  {
   "cell_type": "code",
   "execution_count": 2,
   "metadata": {},
   "outputs": [
    {
     "data": {
      "text/html": "<div>\n<style scoped>\n    .dataframe tbody tr th:only-of-type {\n        vertical-align: middle;\n    }\n\n    .dataframe tbody tr th {\n        vertical-align: top;\n    }\n\n    .dataframe thead th {\n        text-align: right;\n    }\n</style>\n<table border=\"1\" class=\"dataframe\">\n  <thead>\n    <tr style=\"text-align: right;\">\n      <th></th>\n      <th>time</th>\n      <th>total_reads</th>\n    </tr>\n  </thead>\n  <tbody>\n    <tr>\n      <td>1</td>\n      <td>['02-22 11:34', '02-22 11:15', '02-22 10:37', ...</td>\n      <td>5252617.0</td>\n    </tr>\n    <tr>\n      <td>2</td>\n      <td>['02-22 09:57', '02-22 09:55', '02-20 19:35', ...</td>\n      <td>10159783.0</td>\n    </tr>\n    <tr>\n      <td>4</td>\n      <td>['02-22 11:00', '02-22 10:29', '02-22 07:21', ...</td>\n      <td>4402381.0</td>\n    </tr>\n    <tr>\n      <td>5</td>\n      <td>['02-22 09:07', '02-22 02:38', '02-22 01:09', ...</td>\n      <td>2839286.0</td>\n    </tr>\n    <tr>\n      <td>6</td>\n      <td>['02-22 09:09', '02-22 08:06', '02-21 17:26', ...</td>\n      <td>3565125.0</td>\n    </tr>\n    <tr>\n      <td>...</td>\n      <td>...</td>\n      <td>...</td>\n    </tr>\n    <tr>\n      <td>603995</td>\n      <td>['02-22 19:55', '02-22 19:17', '02-22 17:17', ...</td>\n      <td>1146071.0</td>\n    </tr>\n    <tr>\n      <td>603996</td>\n      <td>['02-22 18:33', '02-22 15:46', '02-22 15:16', ...</td>\n      <td>1756186.0</td>\n    </tr>\n    <tr>\n      <td>603997</td>\n      <td>['02-22 15:20', '02-22 13:14', '02-21 18:04', ...</td>\n      <td>3316637.0</td>\n    </tr>\n    <tr>\n      <td>603998</td>\n      <td>['02-22 16:34', '02-22 11:26', '02-21 19:10', ...</td>\n      <td>1187677.0</td>\n    </tr>\n    <tr>\n      <td>603999</td>\n      <td>['02-22 20:23', '02-22 20:23', '02-22 17:02', ...</td>\n      <td>1291535.0</td>\n    </tr>\n  </tbody>\n</table>\n<p>3690 rows × 2 columns</p>\n</div>",
      "text/plain": "                                                     time  total_reads\n1       ['02-22 11:34', '02-22 11:15', '02-22 10:37', ...    5252617.0\n2       ['02-22 09:57', '02-22 09:55', '02-20 19:35', ...   10159783.0\n4       ['02-22 11:00', '02-22 10:29', '02-22 07:21', ...    4402381.0\n5       ['02-22 09:07', '02-22 02:38', '02-22 01:09', ...    2839286.0\n6       ['02-22 09:09', '02-22 08:06', '02-21 17:26', ...    3565125.0\n...                                                   ...          ...\n603995  ['02-22 19:55', '02-22 19:17', '02-22 17:17', ...    1146071.0\n603996  ['02-22 18:33', '02-22 15:46', '02-22 15:16', ...    1756186.0\n603997  ['02-22 15:20', '02-22 13:14', '02-21 18:04', ...    3316637.0\n603998  ['02-22 16:34', '02-22 11:26', '02-21 19:10', ...    1187677.0\n603999  ['02-22 20:23', '02-22 20:23', '02-22 17:02', ...    1291535.0\n\n[3690 rows x 2 columns]"
     },
     "execution_count": 2,
     "metadata": {},
     "output_type": "execute_result"
    }
   ],
   "source": [
    "import pandas as pd\n",
    "from datetime import datetime\n",
    "import numpy as np\n",
    "stocks_info=pd.read_csv('./stocks_frequency_25.csv',index_col=0)\n",
    "stocks_info"
   ]
  },
  {
   "cell_type": "code",
   "execution_count": 20,
   "metadata": {},
   "outputs": [],
   "source": [
    "new_info=pd.DataFrame(columns=['total_reads','counts','deltatime','density','RxD'],index=stocks_info.index)\n",
    "for index,row in stocks_info.iterrows():\n",
    "    x=eval(row['time'])#字符串类型list转list\n",
    "    counts=len(x)\n",
    "    #print(x[0])\n",
    "    #注意反了\n",
    "    start_time=datetime.strptime( '2020-'+x[0],'%Y-%m-%d %H:%M')\n",
    "    if int(x[-1][:2]) <=2:\n",
    "        end_time=datetime.strptime( '2020-'+x[-1],'%Y-%m-%d %H:%M')\n",
    "    else:\n",
    "        end_time=datetime.strptime( '2019-'+x[-1],'%Y-%m-%d %H:%M')\n",
    "\n",
    "    deltatime=(start_time-end_time).total_seconds()\n",
    "    density=counts*1000/deltatime\n",
    "    #print(index,row['total_reads'],counts,deltatime,density)\n",
    "    new_info.loc[index]=[row['total_reads'],counts,deltatime,density,row['total_reads']*density]\n",
    "new_info=new_info.sort_values(by=\"density\" , ascending=False)\n",
    "new_info.to_csv('./stocks_info_final_25.csv')"
   ]
  },
  {
   "cell_type": "code",
   "execution_count": 21,
   "metadata": {},
   "outputs": [
    {
     "data": {
      "text/html": "<div>\n<style scoped>\n    .dataframe tbody tr th:only-of-type {\n        vertical-align: middle;\n    }\n\n    .dataframe tbody tr th {\n        vertical-align: top;\n    }\n\n    .dataframe thead th {\n        text-align: right;\n    }\n</style>\n<table border=\"1\" class=\"dataframe\">\n  <thead>\n    <tr style=\"text-align: right;\">\n      <th></th>\n      <th>total_reads</th>\n      <th>counts</th>\n      <th>deltatime</th>\n      <th>density</th>\n      <th>RxD</th>\n    </tr>\n  </thead>\n  <tbody>\n    <tr>\n      <td>count</td>\n      <td>3690.0</td>\n      <td>3690</td>\n      <td>3690.0</td>\n      <td>3690.000000</td>\n      <td>3690.000000</td>\n    </tr>\n    <tr>\n      <td>unique</td>\n      <td>3686.0</td>\n      <td>19</td>\n      <td>3666.0</td>\n      <td>3671.000000</td>\n      <td>3690.000000</td>\n    </tr>\n    <tr>\n      <td>top</td>\n      <td>4376314.0</td>\n      <td>1920</td>\n      <td>9967440.0</td>\n      <td>0.120097</td>\n      <td>734618.066397</td>\n    </tr>\n    <tr>\n      <td>freq</td>\n      <td>2.0</td>\n      <td>3053</td>\n      <td>2.0</td>\n      <td>2.000000</td>\n      <td>1.000000</td>\n    </tr>\n  </tbody>\n</table>\n</div>",
      "text/plain": "        total_reads  counts  deltatime      density            RxD\ncount        3690.0    3690     3690.0  3690.000000    3690.000000\nunique       3686.0      19     3666.0  3671.000000    3690.000000\ntop       4376314.0    1920  9967440.0     0.120097  734618.066397\nfreq            2.0    3053        2.0     2.000000       1.000000"
     },
     "execution_count": 21,
     "metadata": {},
     "output_type": "execute_result"
    }
   ],
   "source": [
    "new_info.describe()"
   ]
  },
  {
   "cell_type": "code",
   "execution_count": 22,
   "metadata": {},
   "outputs": [
    {
     "data": {
      "text/html": "<div>\n<style scoped>\n    .dataframe tbody tr th:only-of-type {\n        vertical-align: middle;\n    }\n\n    .dataframe tbody tr th {\n        vertical-align: top;\n    }\n\n    .dataframe thead th {\n        text-align: right;\n    }\n</style>\n<table border=\"1\" class=\"dataframe\">\n  <thead>\n    <tr style=\"text-align: right;\">\n      <th></th>\n      <th>index</th>\n      <th>total_reads</th>\n      <th>counts</th>\n      <th>deltatime</th>\n      <th>density</th>\n      <th>RxD</th>\n    </tr>\n  </thead>\n  <tbody>\n    <tr>\n      <td>0</td>\n      <td>002833</td>\n      <td>4.50246e+06</td>\n      <td>1920</td>\n      <td>20520</td>\n      <td>93.5673</td>\n      <td>4.21283e+08</td>\n    </tr>\n    <tr>\n      <td>1</td>\n      <td>603633</td>\n      <td>4.27377e+06</td>\n      <td>1920</td>\n      <td>22080</td>\n      <td>86.9565</td>\n      <td>3.71633e+08</td>\n    </tr>\n    <tr>\n      <td>2</td>\n      <td>002802</td>\n      <td>4.51734e+06</td>\n      <td>1920</td>\n      <td>22740</td>\n      <td>84.4327</td>\n      <td>3.81411e+08</td>\n    </tr>\n    <tr>\n      <td>3</td>\n      <td>600693</td>\n      <td>6.35468e+06</td>\n      <td>1920</td>\n      <td>45360</td>\n      <td>42.328</td>\n      <td>2.68981e+08</td>\n    </tr>\n    <tr>\n      <td>4</td>\n      <td>002003</td>\n      <td>5.44201e+06</td>\n      <td>1920</td>\n      <td>60420</td>\n      <td>31.7776</td>\n      <td>1.72934e+08</td>\n    </tr>\n    <tr>\n      <td>...</td>\n      <td>...</td>\n      <td>...</td>\n      <td>...</td>\n      <td>...</td>\n      <td>...</td>\n      <td>...</td>\n    </tr>\n    <tr>\n      <td>3671</td>\n      <td>300617</td>\n      <td>4.83392e+06</td>\n      <td>1920</td>\n      <td>3.06709e+07</td>\n      <td>0.0626001</td>\n      <td>302604</td>\n    </tr>\n    <tr>\n      <td>3672</td>\n      <td>600377</td>\n      <td>5.57587e+06</td>\n      <td>1920</td>\n      <td>3.06887e+07</td>\n      <td>0.0625637</td>\n      <td>348847</td>\n    </tr>\n    <tr>\n      <td>3673</td>\n      <td>300681</td>\n      <td>3.91659e+06</td>\n      <td>1920</td>\n      <td>3.08621e+07</td>\n      <td>0.0622121</td>\n      <td>243660</td>\n    </tr>\n    <tr>\n      <td>3674</td>\n      <td>002817</td>\n      <td>4.15562e+06</td>\n      <td>1920</td>\n      <td>3.08824e+07</td>\n      <td>0.0621713</td>\n      <td>258360</td>\n    </tr>\n    <tr>\n      <td>3675</td>\n      <td>300616</td>\n      <td>5.75711e+06</td>\n      <td>1920</td>\n      <td>3.09283e+07</td>\n      <td>0.0620791</td>\n      <td>357396</td>\n    </tr>\n  </tbody>\n</table>\n<p>3676 rows × 6 columns</p>\n</div>",
      "text/plain": "       index  total_reads counts    deltatime    density          RxD\n0     002833  4.50246e+06   1920        20520    93.5673  4.21283e+08\n1     603633  4.27377e+06   1920        22080    86.9565  3.71633e+08\n2     002802  4.51734e+06   1920        22740    84.4327  3.81411e+08\n3     600693  6.35468e+06   1920        45360     42.328  2.68981e+08\n4     002003  5.44201e+06   1920        60420    31.7776  1.72934e+08\n...      ...          ...    ...          ...        ...          ...\n3671  300617  4.83392e+06   1920  3.06709e+07  0.0626001       302604\n3672  600377  5.57587e+06   1920  3.06887e+07  0.0625637       348847\n3673  300681  3.91659e+06   1920  3.08621e+07  0.0622121       243660\n3674  002817  4.15562e+06   1920  3.08824e+07  0.0621713       258360\n3675  300616  5.75711e+06   1920  3.09283e+07  0.0620791       357396\n\n[3676 rows x 6 columns]"
     },
     "execution_count": 22,
     "metadata": {},
     "output_type": "execute_result"
    }
   ],
   "source": [
    "idx=new_info.index.tolist()\n",
    "idx=list(map(str,idx))\n",
    "idx=list(map(lambda x : x.zfill(6),idx))\n",
    "#print(idx[:20])\n",
    "new_info.index=idxdfsa\n",
    "data=new_info[new_info['density']>0].reset_index()\n",
    "data=data.rename(columns={'index':'stkcd'})\n",
    "data"
   ]
  },
  {
   "cell_type": "code",
   "execution_count": 2,
   "metadata": {},
   "outputs": [],
   "source": [
    "import numpy as np"
   ]
  },
  {
   "cell_type": "code",
   "execution_count": 29,
   "metadata": {},
   "outputs": [],
   "source": [
    "stkcd=data.stkcd.tolist()\n",
    "np.save('./stkcd.npy',stkcd)"
   ]
  },
  {
   "cell_type": "code",
   "execution_count": 4,
   "metadata": {},
   "outputs": [
    {
     "name": "stdout",
     "output_type": "stream",
     "text": "163\n"
    }
   ],
   "source": [
    "x=np.load('./stkcd.npy').tolist()\n",
    "print(x.index('603601'))"
   ]
  },
  {
   "cell_type": "code",
   "execution_count": null,
   "metadata": {},
   "outputs": [],
   "source": []
  }
 ]
}